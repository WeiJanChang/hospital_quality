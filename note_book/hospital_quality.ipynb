{
 "cells": [
  {
   "cell_type": "code",
   "execution_count": null,
   "id": "5e48d63b-c560-4422-a123-01f53efbf3f7",
   "metadata": {},
   "outputs": [],
   "source": [
    "import pandas as pd\n",
    "import matplotlib.pyplot as plt\n",
    "import seaborn as sns"
   ]
  },
  {
   "cell_type": "code",
   "execution_count": null,
   "id": "daf1b555-073a-44cf-aecb-eb6102d73ceb",
   "metadata": {},
   "outputs": [],
   "source": [
    "df = pd.read_csv(\"~/code/hospital_quality/test_file/outcome-of-care-measures.csv\")"
   ]
  },
  {
   "cell_type": "markdown",
   "id": "9ae67e17-4041-48b3-a619-677a2519f687",
   "metadata": {},
   "source": [
    "# How many hospitals in each State?"
   ]
  },
  {
   "cell_type": "code",
   "execution_count": null,
   "id": "f54faf4a-985e-4d85-add3-b82ce78bff6f",
   "metadata": {},
   "outputs": [],
   "source": [
    "df.groupby('State')['Hospital Name'].count()"
   ]
  },
  {
   "cell_type": "markdown",
   "id": "83312134-9135-4c7b-9ffc-9565f7d4c189",
   "metadata": {},
   "source": [
    "# Finding the best hospital in a state based on \"lowest 30-day mortality in one of heart attack”, “heart failure”, or “pneumonia”"
   ]
  },
  {
   "cell_type": "code",
   "execution_count": null,
   "id": "4a2429ce-1b5a-4e86-9e49-072fd6da5023",
   "metadata": {},
   "outputs": [],
   "source": [
    "mortality_cols = [\n",
    "    \"Hospital 30-Day Death (Mortality) Rates from Heart Failure\",\n",
    "    \"Hospital 30-Day Death (Mortality) Rates from Pneumonia\",\n",
    "    \"Hospital 30-Day Death (Mortality) Rates from Heart Attack\"\n",
    "]\n",
    "\n",
    "best_hospital = df.groupby([\"State\",\"Hospital Name\"])[mortality_cols].agg(min).reset_index() # reset index for a df. not aMultiIndex DataFrame.\n",
    "# use .agg can take more action, such as .agg(['min', 'max', 'mean'])"
   ]
  },
  {
   "cell_type": "code",
   "execution_count": null,
   "id": "7a9acf70-7645-4bfb-a662-bafde0e7cdb5",
   "metadata": {},
   "outputs": [],
   "source": [
    "# Create the figure and axis\n",
    "best_hospital = best_hospital[best_hospital['State'] == 'DE']\n",
    "\n",
    "fig, ax = plt.subplots(figsize=(10, 6))  # Adjust size for better visibility\n",
    "\n",
    "ax.bar(best_hospital[\"Hospital Name\"],best_hospital[\"Hospital 30-Day Death (Mortality) Rates from Heart Failure\"])\n",
    "ax.set_ylabel('Mortality Rate')\n",
    "ax.set_title('Mortality of Heart Failure in each Hospital')\n",
    "plt.show()"
   ]
  },
  {
   "cell_type": "code",
   "execution_count": null,
   "id": "307fdef1-9cde-42ca-b23a-d9587dcfe206",
   "metadata": {},
   "outputs": [],
   "source": []
  },
  {
   "cell_type": "code",
   "execution_count": null,
   "id": "a302b1f0-a286-40e5-a163-15e84dd14cee",
   "metadata": {},
   "outputs": [],
   "source": []
  },
  {
   "cell_type": "code",
   "execution_count": null,
   "id": "afe549e7-77f1-401a-8d24-826442a2f2d4",
   "metadata": {},
   "outputs": [],
   "source": []
  }
 ],
 "metadata": {
  "kernelspec": {
   "display_name": "pyhealth",
   "language": "python",
   "name": "pyhealth"
  },
  "language_info": {
   "codemirror_mode": {
    "name": "ipython",
    "version": 3
   },
   "file_extension": ".py",
   "mimetype": "text/x-python",
   "name": "python",
   "nbconvert_exporter": "python",
   "pygments_lexer": "ipython3",
   "version": "3.10.16"
  }
 },
 "nbformat": 4,
 "nbformat_minor": 5
}
